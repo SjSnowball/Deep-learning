{
 "cells": [
  {
   "cell_type": "code",
   "execution_count": 1,
   "metadata": {},
   "outputs": [
    {
     "name": "stderr",
     "output_type": "stream",
     "text": [
      "Using TensorFlow backend.\n"
     ]
    }
   ],
   "source": [
    "#RNN - LSTM\n",
    "\n",
    "from __future__ import print_function\n",
    "import numpy as np\n",
    "import matplotlib.pyplot as plt\n",
    "%matplotlib inline\n",
    "\n",
    "import keras\n",
    "from keras.datasets import mnist\n",
    "from keras.models import Sequential\n",
    "from keras.layers import Dense, Dropout\n",
    "from keras.layers import Embedding\n",
    "from keras.layers import LSTM\n"
   ]
  },
  {
   "cell_type": "code",
   "execution_count": 2,
   "metadata": {},
   "outputs": [],
   "source": [
    "# set parameter\n",
    "epochs = 10\n",
    "batch_size = 128\n",
    "n_classes = 10\n",
    "data_dim = 28\n",
    "timesteps = 28\n",
    "\n"
   ]
  },
  {
   "cell_type": "code",
   "execution_count": 3,
   "metadata": {},
   "outputs": [],
   "source": [
    "# load MNIST data\n",
    "(x_train, y_train), (x_test, y_test) = mnist.load_data()\n",
    "# x_train = x_train[:10000,:]  # uncomment to train on less data\n",
    "# y_train = y_train[:10000]\n",
    "\n"
   ]
  },
  {
   "cell_type": "code",
   "execution_count": 4,
   "metadata": {},
   "outputs": [
    {
     "name": "stdout",
     "output_type": "stream",
     "text": [
      "x_train shape: (60000, 28, 28)\n",
      "60000 train samples\n",
      "10000 test samples\n"
     ]
    }
   ],
   "source": [
    "# data preprocessing\n",
    "x_train = x_train.astype('float32')\n",
    "x_test = x_test.astype('float32')\n",
    "\n",
    "scale = np.max(x_train) # 255\n",
    "x_train /= scale\n",
    "x_test /= scale\n",
    "\n",
    "mean = np.std(x_train)\n",
    "x_train -= mean\n",
    "x_test -= mean\n",
    "\n",
    "print('x_train shape:', x_train.shape)\n",
    "print(x_train.shape[0], 'train samples')\n",
    "print(x_test.shape[0], 'test samples')\n",
    "\n",
    "y_train = keras.utils.to_categorical(y_train, n_classes)\n",
    "y_test = keras.utils.to_categorical(y_test, n_classes)\n"
   ]
  },
  {
   "cell_type": "code",
   "execution_count": 7,
   "metadata": {},
   "outputs": [],
   "source": [
    "# construct model\n",
    "model = Sequential()\n",
    "model.add(LSTM(128, input_shape=(timesteps, data_dim)))\n",
    "model.add(Dropout(0.5))\n",
    "model.add(Dense(n_classes, activation='softmax'))\n",
    "\n",
    "model.compile(loss='categorical_crossentropy',\n",
    "              optimizer='rmsprop',\n",
    "              metrics=['accuracy'])"
   ]
  },
  {
   "cell_type": "code",
   "execution_count": 6,
   "metadata": {},
   "outputs": [
    {
     "name": "stdout",
     "output_type": "stream",
     "text": [
      "WARNING:tensorflow:From /home/sowmya/anaconda3/lib/python3.7/site-packages/tensorflow/python/ops/math_ops.py:3066: to_int32 (from tensorflow.python.ops.math_ops) is deprecated and will be removed in a future version.\n",
      "Instructions for updating:\n",
      "Use tf.cast instead.\n",
      "Train on 60000 samples, validate on 10000 samples\n",
      "Epoch 1/10\n",
      "60000/60000 [==============================] - 123s 2ms/step - loss: 0.6243 - acc: 0.7945 - val_loss: 0.1870 - val_acc: 0.9396\n",
      "Epoch 2/10\n",
      "60000/60000 [==============================] - 116s 2ms/step - loss: 0.1877 - acc: 0.9451 - val_loss: 0.1166 - val_acc: 0.9659\n",
      "Epoch 3/10\n",
      "60000/60000 [==============================] - 117s 2ms/step - loss: 0.1230 - acc: 0.9656 - val_loss: 0.1214 - val_acc: 0.9636\n",
      "Epoch 4/10\n",
      "60000/60000 [==============================] - 118s 2ms/step - loss: 0.0907 - acc: 0.9736 - val_loss: 0.0690 - val_acc: 0.9785\n",
      "Epoch 5/10\n",
      "60000/60000 [==============================] - 118s 2ms/step - loss: 0.0725 - acc: 0.9787 - val_loss: 0.0788 - val_acc: 0.9776\n",
      "Epoch 6/10\n",
      "60000/60000 [==============================] - 116s 2ms/step - loss: 0.0605 - acc: 0.9824 - val_loss: 0.0605 - val_acc: 0.9821\n",
      "Epoch 7/10\n",
      "60000/60000 [==============================] - 117s 2ms/step - loss: 0.0521 - acc: 0.9854 - val_loss: 0.0548 - val_acc: 0.9838\n",
      "Epoch 8/10\n",
      "60000/60000 [==============================] - 132s 2ms/step - loss: 0.0467 - acc: 0.9865 - val_loss: 0.0580 - val_acc: 0.9836\n",
      "Epoch 9/10\n",
      "60000/60000 [==============================] - 132s 2ms/step - loss: 0.0392 - acc: 0.9880 - val_loss: 0.0579 - val_acc: 0.9831\n",
      "Epoch 10/10\n",
      "60000/60000 [==============================] - 131s 2ms/step - loss: 0.0353 - acc: 0.9896 - val_loss: 0.0524 - val_acc: 0.9855\n"
     ]
    }
   ],
   "source": [
    "# train LSTM\n",
    "history = model.fit(x_train, y_train, batch_size=batch_size, epochs=epochs, verbose=1, validation_data=(x_test, y_test))\n",
    "\n",
    "\n"
   ]
  },
  {
   "cell_type": "code",
   "execution_count": 8,
   "metadata": {},
   "outputs": [
    {
     "name": "stdout",
     "output_type": "stream",
     "text": [
      "Test loss: 2.309141035079956\n",
      "Test accuracy: 0.1313\n"
     ]
    }
   ],
   "source": [
    "# evaluate on test set\n",
    "score = model.evaluate(x_test, y_test, verbose=0)\n",
    "print('Test loss:', score[0])\n",
    "print('Test accuracy:', score[1])\n"
   ]
  },
  {
   "cell_type": "code",
   "execution_count": 9,
   "metadata": {},
   "outputs": [
    {
     "data": {
      "image/png": "[encoded data removed]",
      "text/plain": [
       "<Figure size 432x288 with 1 Axes>"
      ]
     },
     "metadata": {
      "needs_background": "light"
     },
     "output_type": "display_data"
    }
   ],
   "source": [
    "# visualize the loss function in each epoch\n",
    "history_dict = history.history\n",
    "loss_values = history_dict['loss']\n",
    "val_loss_values = history_dict['val_loss']\n",
    "epochs = range(1, len(loss_values) + 1)\n",
    "plt.plot(epochs, loss_values, 'bo')\n",
    "plt.plot(epochs, val_loss_values, 'b+')\n",
    "plt.xlabel('Epochs')\n",
    "plt.ylabel('Loss')\n",
    "plt.show()\n"
   ]
  },
  {
   "cell_type": "code",
   "execution_count": 10,
   "metadata": {},
   "outputs": [
    {
     "data": {
      "image/png": "[encoded data removed]",
      "text/plain": [
       "<Figure size 432x288 with 1 Axes>"
      ]
     },
     "metadata": {
      "needs_background": "light"
     },
     "output_type": "display_data"
    }
   ],
   "source": [
    "# visualize accuracy in each epoch\n",
    "plt.clf()\n",
    "acc_values = history_dict['acc']\n",
    "val_acc_values = history_dict['val_acc']\n",
    "plt.plot(epochs, acc_values, 'bo')\n",
    "plt.plot(epochs, val_acc_values, 'b+')\n",
    "plt.xlabel('Epochs')\n",
    "plt.ylabel('Accuracy')\n",
    "plt.show()"
   ]
  },
  {
   "cell_type": "code",
   "execution_count": null,
   "metadata": {},
   "outputs": [],
   "source": []
  }
 ],
 "metadata": {
  "kernelspec": {
   "display_name": "Python 3",
   "language": "python",
   "name": "python3"
  },
  "language_info": {
   "codemirror_mode": {
    "name": "ipython",
    "version": 3
   },
   "file_extension": ".py",
   "mimetype": "text/x-python",
   "name": "python",
   "nbconvert_exporter": "python",
   "pygments_lexer": "ipython3",
   "version": "3.7.3"
  }
 },
 "nbformat": 4,
 "nbformat_minor": 2
}
