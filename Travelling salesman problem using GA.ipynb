{
 "cells": [
  {
   "cell_type": "code",
   "execution_count": 1,
   "metadata": {},
   "outputs": [],
   "source": [
    "import numpy as np,random,operator\n",
    "import pandas as pd"
   ]
  },
  {
   "cell_type": "markdown",
   "metadata": {},
   "source": [
    "# Generate the Coordinates"
   ]
  },
  {
   "cell_type": "code",
   "execution_count": 2,
   "metadata": {},
   "outputs": [],
   "source": [
    "def sample_route(sample,CityList):\n",
    "    CityRoute=[]\n",
    "    \n",
    "    for i in range(0,sample):\n",
    "        CityRoute.append(random.sample(CityList,len(CityList)))\n",
    "    \n",
    "    return CityRoute\n",
    "\n",
    "def City_List(City,sample):\n",
    "    CityList = []\n",
    "    for i in range(0,City):\n",
    "        XY_Coordinate = []\n",
    "        XY_Coordinate.append(int(random.random()*200))\n",
    "        XY_Coordinate.append(int(random.random()*200))\n",
    "        CityList.append(XY_Coordinate)\n",
    "    \n",
    "    CityList=sample_route(sample,CityList)\n",
    "        \n",
    "    return CityList\n",
    "        \n",
    "        \n"
   ]
  },
  {
   "cell_type": "markdown",
   "metadata": {},
   "source": [
    "# Calculate Distance using pythagoras theorem"
   ]
  },
  {
   "cell_type": "code",
   "execution_count": 74,
   "metadata": {},
   "outputs": [],
   "source": [
    "def Calculate_Distance(StartCity,EndCity):\n",
    "    xDis = abs(StartCity[0]-EndCity[0])\n",
    "    yDis = abs(StartCity[1]-EndCity[1])\n",
    "    distance = np.sqrt((xDis ** 2) + (yDis ** 2))\n",
    "    return distance\n",
    "\n",
    "def Fitness_City(CityRoute):\n",
    "    Fitness={}\n",
    "    for i in range(0,len(CityRoute)):\n",
    "        pathdistance=0\n",
    "        for j in range(0,len(CityRoute[i])):\n",
    "            StartCity=CityRoute[i][j]\n",
    "            \n",
    "            if j+1< len(CityRoute[i]):\n",
    "                EndCity=CityRoute[i][j+1]\n",
    "                \n",
    "            else:\n",
    "                EndCity=CityRoute[i][0]\n",
    "                \n",
    "            pathdistance+=Calculate_Distance(StartCity,EndCity)\n",
    "            \n",
    "        Fitness[i]=pathdistance\n",
    "    \n",
    "    \n",
    "    return sorted(Fitness.items(), key = operator.itemgetter(1), reverse = True)\n",
    "  "
   ]
  },
  {
   "cell_type": "markdown",
   "metadata": {},
   "source": [
    "# Roulette wheel selection method genetic algorithm\n"
   ]
  },
  {
   "cell_type": "code",
   "execution_count": 365,
   "metadata": {},
   "outputs": [],
   "source": [
    "def selection(Fitness):\n",
    "    \n",
    "    selectionResults = []\n",
    "    df = pd.DataFrame(np.array(Fitness), columns=[\"Index\",\"Fitness\"])\n",
    "\n",
    "    df['prev_probab'] = df.Fitness.cumsum()\n",
    "    df['Fitness_probab'] = 100*df.prev_probab/df.Fitness.sum()\n",
    "    \n",
    "\n",
    "    for i in range(0, len(Fitness)-30):\n",
    "        pick = 100*random.random()\n",
    "        for i in range(0, len(Fitness)):\n",
    "             if pick <= df.iat[i,3]:\n",
    "                selectionResults.append(Fitness[i][0])\n",
    "                break\n",
    "    return selectionResults\n",
    "    \n",
    "    \n"
   ]
  },
  {
   "cell_type": "markdown",
   "metadata": {},
   "source": [
    "# Two-point and k-point crossover"
   ]
  },
  {
   "cell_type": "code",
   "execution_count": 366,
   "metadata": {},
   "outputs": [],
   "source": [
    "def cross_over(Selected,CityRoute):\n",
    "    \n",
    "    Child_New= []\n",
    "    \n",
    "    for i in range(0,len(Selected)):\n",
    "        Selected_sample = random.sample(Selected,len(Selected))\n",
    "        \n",
    "        first_parent = CityRoute[Selected[i]]\n",
    "        \n",
    "        \n",
    "        second_parent = CityRoute[Selected[len(Selected)-i-1]]\n",
    "\n",
    "\n",
    "        length1 = np.random.randint(1,len(first_parent))\n",
    "        length2 = np.random.randint(1,len(first_parent))\n",
    "        \n",
    "        start=min(length1,length2)\n",
    "        end=max(length1,length2)\n",
    "        \n",
    "        P1 = []\n",
    "        P2 = []\n",
    "        \n",
    "        for j in range(start, end):\n",
    "        \n",
    "            P1.append(first_parent[j])\n",
    "            \n",
    "       \n",
    "\n",
    "        for item in second_parent:\n",
    "           \n",
    "            if item not in first_parent:\n",
    "                \n",
    "                P2.append(item)\n",
    "\n",
    "        \n",
    "        Child_New.append(P1 + P2)\n",
    "    \n",
    "    \n",
    "    return Child_New\n",
    "    \n",
    "\n",
    "\n"
   ]
  },
  {
   "cell_type": "markdown",
   "metadata": {},
   "source": [
    "# Swap Mutation"
   ]
  },
  {
   "cell_type": "code",
   "execution_count": 350,
   "metadata": {},
   "outputs": [],
   "source": [
    "def Mutation(Cross_Over):\n",
    "    \n",
    "    New_Child=Cross_Over\n",
    "        \n",
    "    for i in range(0,len(Cross_Over)):\n",
    "        mutation=0.01\n",
    "        \n",
    "        for j in range(0,len(Cross_Over[i])):\n",
    "            if random.random() <= mutation:\n",
    "\n",
    "                swap = int(random.random() * len(Cross_Over[i]))\n",
    "\n",
    "                Swap1 = Cross_Over[i][j]\n",
    "                Swap2 = Cross_Over[i][swap]\n",
    "\n",
    "                New_Child[i][j] = Swap2\n",
    "                New_Child[i][swap] = Swap1\n",
    "        \n",
    "        \n",
    "    return New_Child\n",
    "        \n",
    "        \n",
    "        \n",
    "        "
   ]
  },
  {
   "cell_type": "markdown",
   "metadata": {},
   "source": [
    "# Genetic Algorithm"
   ]
  },
  {
   "cell_type": "code",
   "execution_count": 364,
   "metadata": {},
   "outputs": [
    {
     "name": "stdout",
     "output_type": "stream",
     "text": [
      "Initial Distance: 3274.8153164330583\n",
      "Final Distance: 1741.355027699146\n"
     ]
    }
   ],
   "source": [
    "City=25\n",
    "sample=100\n",
    "generation=500\n",
    "\n",
    "def genetic_algorithm(City,Sample_route):\n",
    "    \n",
    "    CityRoute = City_List(City,Sample_route)\n",
    "    \n",
    "    Fitness = Fitness_City(CityRoute)\n",
    "    print(\"Initial Distance:\",Fitness[0][1])\n",
    "        \n",
    "    for i in range(0,3):\n",
    "        \n",
    "        Fitness = Fitness_City(CityRoute)\n",
    "\n",
    "        Selected_Fitness=selection(Fitness)\n",
    "\n",
    "        Cross_Over = cross_over(Selected_Fitness,CityRoute) \n",
    "\n",
    "        CityRoute = Mutation(Cross_Over)\n",
    "        \n",
    "        Fit = Fitness_City(CityRoute)\n",
    "\n",
    "    print(\"Final Distance:\",Fit[0][1])\n",
    "    \n",
    "    \n",
    "genetic_algorithm(City,sample)\n",
    "\n",
    "    \n",
    "    "
   ]
  },
  {
   "cell_type": "code",
   "execution_count": null,
   "metadata": {},
   "outputs": [],
   "source": []
  },
  {
   "cell_type": "code",
   "execution_count": null,
   "metadata": {},
   "outputs": [],
   "source": []
  },
  {
   "cell_type": "code",
   "execution_count": null,
   "metadata": {},
   "outputs": [],
   "source": []
  },
  {
   "cell_type": "code",
   "execution_count": null,
   "metadata": {},
   "outputs": [],
   "source": []
  }
 ],
 "metadata": {
  "kernelspec": {
   "display_name": "Python 3",
   "language": "python",
   "name": "python3"
  },
  "language_info": {
   "codemirror_mode": {
    "name": "ipython",
    "version": 3
   },
   "file_extension": ".py",
   "mimetype": "text/x-python",
   "name": "python",
   "nbconvert_exporter": "python",
   "pygments_lexer": "ipython3",
   "version": "3.7.3"
  }
 },
 "nbformat": 4,
 "nbformat_minor": 2
}
